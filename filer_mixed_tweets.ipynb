{
 "cells": [
  {
   "cell_type": "code",
   "execution_count": 17,
   "metadata": {},
   "outputs": [],
   "source": [
    "import emoji\n",
    "# This regex implementation is backwards-compatible with the standard ‘re’ module, but offers additional functionality.\n",
    "import regex\n",
    "from collections import Counter"
   ]
  },
  {
   "cell_type": "code",
   "execution_count": 18,
   "metadata": {},
   "outputs": [],
   "source": [
    "def read_tsv(data_file):\n",
    "    text_data = list()\n",
    "    labels = list()\n",
    "    infile = open(data_file, encoding='utf-8')\n",
    "    for line in infile:\n",
    "        if not line.strip():\n",
    "            continue\n",
    "        label, text = line.split('\\t')\n",
    "        text_data.append(text)\n",
    "        labels.append(label)\n",
    "    return text_data, labels"
   ]
  },
  {
   "cell_type": "code",
   "execution_count": 19,
   "metadata": {},
   "outputs": [],
   "source": [
    "def extract_emo_from_text(text):\n",
    "    emoji_list = []\n",
    "    tokens = regex.findall(r'\\X', text)\n",
    "    # print(tokens)\n",
    "    for word in tokens:\n",
    "        if any(char in emoji.UNICODE_EMOJI for char in word):\n",
    "            emoji_list.append(word)\n",
    "    return emoji_list"
   ]
  },
  {
   "cell_type": "code",
   "execution_count": 20,
   "metadata": {},
   "outputs": [],
   "source": [
    "def load_lexicon(lex_file):\n",
    "    emoji_lex = open(lex_file, encoding='utf-8').read().strip().split('\\n')\n",
    "    return emoji_lex"
   ]
  },
  {
   "cell_type": "code",
   "execution_count": 21,
   "metadata": {},
   "outputs": [],
   "source": [
    "def check_emo_in_lex(emos, lex):\n",
    "    return any([emo in lex for emo in emos])"
   ]
  },
  {
   "cell_type": "code",
   "execution_count": 22,
   "metadata": {},
   "outputs": [],
   "source": [
    "pos_file = 'arabic_tweets_tsv/20191104/Arabic_tweets_positive_20191104.tsv'\n",
    "neg_file = 'arabic_tweets_tsv/20191104/Arabic_tweets_negative_20191104.tsv'"
   ]
  },
  {
   "cell_type": "code",
   "execution_count": 23,
   "metadata": {},
   "outputs": [
    {
     "name": "stdout",
     "output_type": "stream",
     "text": [
      "76906 72905\n"
     ]
    }
   ],
   "source": [
    "pos_data, pos_labels = read_tsv(pos_file)\n",
    "neg_data, neg_labels = read_tsv(neg_file)\n",
    "print(len(pos_data), len(neg_data))"
   ]
  },
  {
   "cell_type": "code",
   "execution_count": 24,
   "metadata": {},
   "outputs": [
    {
     "data": {
      "text/plain": [
       "'هه خلي فضولش ف جيبش 🌚\\n'"
      ]
     },
     "execution_count": 24,
     "metadata": {},
     "output_type": "execute_result"
    }
   ],
   "source": [
    "pos_data[0]"
   ]
  },
  {
   "cell_type": "code",
   "execution_count": 25,
   "metadata": {},
   "outputs": [
    {
     "data": {
      "text/plain": [
       "'موجود ماسافرت 😊\\n'"
      ]
     },
     "execution_count": 25,
     "metadata": {},
     "output_type": "execute_result"
    }
   ],
   "source": [
    "pos_data[1]"
   ]
  },
  {
   "cell_type": "code",
   "execution_count": 26,
   "metadata": {},
   "outputs": [
    {
     "data": {
      "text/plain": [
       "'انمي Family Guy الموسم الحلقة السادسة مترجمة HD لودي نت وياك كرمالك شاهد\\n'"
      ]
     },
     "execution_count": 26,
     "metadata": {},
     "output_type": "execute_result"
    }
   ],
   "source": [
    "neg_data[0]"
   ]
  },
  {
   "cell_type": "code",
   "execution_count": 27,
   "metadata": {},
   "outputs": [
    {
     "data": {
      "text/plain": [
       "'صدااع من الغباء لي ساعه افكر وش اقول بس غبائها الجمني 😭\\n'"
      ]
     },
     "execution_count": 27,
     "metadata": {},
     "output_type": "execute_result"
    }
   ],
   "source": [
    "neg_data[1]"
   ]
  },
  {
   "cell_type": "code",
   "execution_count": 28,
   "metadata": {},
   "outputs": [
    {
     "name": "stdout",
     "output_type": "stream",
     "text": [
      "350 123\n"
     ]
    }
   ],
   "source": [
    "pos_lex = load_lexicon('emoji_lex/positive_emoji_v3.txt')\n",
    "neg_lex = load_lexicon('emoji_lex/negative_emoji_v3.txt')\n",
    "print(len(pos_lex), len(neg_lex))"
   ]
  },
  {
   "cell_type": "code",
   "execution_count": 29,
   "metadata": {},
   "outputs": [
    {
     "name": "stdout",
     "output_type": "stream",
     "text": [
      "['🌌', '♛', '❥', '🍊', '8)', '🙋', '👣', '🧡', '♨', ':’)', '🍓', '8-)', '❄', '💐', '🏊', ':}', '☀', '😝', '🙊', ';)', '🍆', '🌞', '👫', '🍌', '🌽', ':>', '🙂', ':-3', '🥳', '📹', '❣', '😁', '♔', '❅', '🎄', '🍑', ':D', '💕', '🌈', '👜', ';D', '👤', '🎹', '💞', '*)', '🎾', '🚼', 'xD', '🚄', '❤', '🔝', '😮', '🐰', '🌛', '😗', '😌', '🤴', '😸', '🙏', '🌴', '❤️', '🎿', '👛', '✏', '🎠', '🚢', ':-,', '🌕', '🔭', '👑', '👨', '💃', '🐵', '💏', '🍟', '*-)', '💋', '🏡', '🍔', '🌷', '🔆', '🏈', '💟', ':-)', '😉', '🚿', '🍰', ';]', '😘', '=3', '🍹', '✔', '👍', '🌠', '😻', '🆓', '=D', '🎥', '🍎', '👊', '🎬', '🌚', '♡', '😬', '🎉', '🎅', '✌️', 'B-ˆD', '<3', '🍨', '😎', '☺️', '🏉', '❀', '🐈', '✓', '🐠', '🍦', '💌', '🌱', '🐪', '🤡', ':ˆ)', '🏰', '☺', '🙃', '💰', '📝', ':-]', '💼', '😍', '👖', '=)', ':-}', '💛', '🌾', '🍒', '🐥', '💄', '🐬', '🎁', '🍉', '⛳', '🚵', '🏩', '🍁', '🗻', '🌰', ':-*', '💳', '🔅', '♪', '🙌', '🐣', '🐏', '🎼', '🌅', '✔️', '😆', ':]', '🏀', '📺', ':-))', '😚', '💚', '🐇', '🌼', '👏', '🐱', '🎶', '✎', '🆗', '🌜', '🌘', '😇', '✈', '🚀', '🎈', '👅', '🆒', '8D ', '🎒', '🌔', '🐩', '🚤', '🏠', '🌊', '💖', '🎸', '🤗', '😹', ':) ', '🎻', ':)', '💒', '🍜', '✌', '⭐️', '💪', '🤞', '♕', '🚌', '👸', '🍧', '💑', '😄', '⛵', '👄', '🍵', '🎇', '☕', '🎷', '💗', '🍃', '👟', '🌉', '👋', ':o)', '🐡', '🏁', '😊', '🍷', '🏤', '🌒', '🎩', ':c)', '🚂', '🎀', '🍩', '😀', '💙', '🏄', '⚓', '🌺', '🐤', '👢', '🍍', '♥', '🤝', '💝', '💜', ':-D', '🍸', '✿', '👯', '🎓', '🎤', '🖤', '🎂', '👔', '🌿', '👭', '✅', '🏆', '🍕', '🍬', '✨', '🎵', '🎃', '🌇', '🐫', '🌻', '⛄', '🍅', '🍇', '🍴', '🗽', '✒', '📣', '🥧', '💎', '👶', 'XD', '🍭', '🤩', '🎪', '✊', '👚', ':*', '🏨', '8-D', '💡', '☻', '🎧', '💻', '🌸', '🌟', '🎊', '💘', '♩', '💍', '=]', '💇', '🏂', '🐔', '👗', '☆', 'x-D', '🚓', ';-)', '👠', '🐋', ':3', '🐧', '😋', '🚨', ';-]', '📚', '🌳', 'X-D', '🍂', '🚗', ':->', '👌', '🎺', '🍀', '🐦', ';ˆ)', '💓', '😜', '🚲', '👰', '🔔', '🎡', '🎽', '🌹', '🍪', '💫', '😃', ':’-)', '♬', '📷', '🐶', '😙', ': )', '😛', '👕', '🏃', '🍚', '🚣', '🎮', '👡', '🗼', '🎎', '😺', '🎆', '🌲', '☼', '🚴', '🐎']\n"
     ]
    }
   ],
   "source": [
    "print(pos_lex)"
   ]
  },
  {
   "cell_type": "code",
   "execution_count": 30,
   "metadata": {},
   "outputs": [
    {
     "name": "stdout",
     "output_type": "stream",
     "text": [
      "[':<', '👿', '😬', ':-[', '💀', ':-(', '😷', '😱', ':-c', '😾', ':(', '🐁', '🆘', '😢', 'D8', '😪', '>:\\\\', ':-.', '🔞', '>:(', ':c', '🙎', '😴', '😑', '☠', '😒', '💉', '😫', ':@', '😥', '🌵', '😠', '⌛', '😳', '🔨', '😤', '❓', '💣', '🔙', '😲', '🤒', ':/', '🌋', '😟', '👮', ':\\\\', ':’(', '👎', '⛔', 'DX', '🚑', '>:[', '🔓', '😯', '🤕', '🤢', '=/', '🔱', '😩', ':[', ':-<', '💔', '😼', '🐴', ':-/', '❗', '😮', '🚫', '⚠', '🙇', '🙍', '✂', '📍', ':S', '😖', '🖕', '<\\\\3', 'D-’:', 'v.v', '😡', '😔', '😦', '😵', '>.<', '📌', '🤮', '</3', '👺', '🤧', 'D;', '😰', '🥀', '😣', '=L', '😨', ': (', '😭', '=\\\\', '🔪', '😞', 'D=', '😐', '🐲', ':L', '😧', ':-||', '😿', '🐍', '🤬', '😓', '😕', ':{', '😶', 'D:', '⏩', ' >:/', '🥵', '🙁', 'D:<', '↪', '👐', '☹', '🤐']\n"
     ]
    }
   ],
   "source": [
    "print(neg_lex)"
   ]
  },
  {
   "cell_type": "code",
   "execution_count": 31,
   "metadata": {},
   "outputs": [
    {
     "data": {
      "text/plain": [
       "('🐎', '🤐')"
      ]
     },
     "execution_count": 31,
     "metadata": {},
     "output_type": "execute_result"
    }
   ],
   "source": [
    "pos_lex[-1], neg_lex[-1]"
   ]
  },
  {
   "cell_type": "code",
   "execution_count": 32,
   "metadata": {},
   "outputs": [],
   "source": [
    "new_pos = list()\n",
    "new_neg = list()\n",
    "mixed = list()"
   ]
  },
  {
   "cell_type": "code",
   "execution_count": 33,
   "metadata": {},
   "outputs": [],
   "source": [
    "for tweet in pos_data:\n",
    "    emojis = extract_emo_from_text(tweet)\n",
    "    if check_emo_in_lex(emojis, pos_lex) and check_emo_in_lex(emojis, neg_lex):\n",
    "        mixed.append(tweet)\n",
    "    else:\n",
    "        new_pos.append(tweet)\n",
    "\n",
    "for tweet in neg_data:\n",
    "    emojis = extract_emo_from_text(tweet)\n",
    "    if check_emo_in_lex(emojis, pos_lex) and check_emo_in_lex(emojis, neg_lex):\n",
    "        mixed.append(tweet)\n",
    "    else:\n",
    "        new_neg.append(tweet)"
   ]
  },
  {
   "cell_type": "code",
   "execution_count": 34,
   "metadata": {},
   "outputs": [
    {
     "name": "stdout",
     "output_type": "stream",
     "text": [
      "75478 68814 5519\n"
     ]
    }
   ],
   "source": [
    "print(len(new_pos), len(new_neg), len(mixed))"
   ]
  },
  {
   "cell_type": "code",
   "execution_count": 35,
   "metadata": {},
   "outputs": [
    {
     "data": {
      "text/plain": [
       "'هه خلي فضولش ف جيبش 🌚\\n'"
      ]
     },
     "execution_count": 35,
     "metadata": {},
     "output_type": "execute_result"
    }
   ],
   "source": [
    "new_pos[0]"
   ]
  },
  {
   "cell_type": "code",
   "execution_count": 36,
   "metadata": {},
   "outputs": [
    {
     "data": {
      "text/plain": [
       "'انمي Family Guy الموسم الحلقة السادسة مترجمة HD لودي نت وياك كرمالك شاهد\\n'"
      ]
     },
     "execution_count": 36,
     "metadata": {},
     "output_type": "execute_result"
    }
   ],
   "source": [
    "new_neg[0]"
   ]
  },
  {
   "cell_type": "code",
   "execution_count": 37,
   "metadata": {},
   "outputs": [
    {
     "data": {
      "text/plain": [
       "': 👇 حسب نصيحة صيدلاني: ✔️ الأزرق مناسب للي عنده ارتفاع في ضغط الدم وارتفاع السكر .👍 ❌ والأحمر غير مناسب.👎\\n'"
      ]
     },
     "execution_count": 37,
     "metadata": {},
     "output_type": "execute_result"
    }
   ],
   "source": [
    "mixed[0]"
   ]
  },
  {
   "cell_type": "code",
   "execution_count": null,
   "metadata": {},
   "outputs": [],
   "source": []
  }
 ],
 "metadata": {
  "kernelspec": {
   "display_name": "Python 3",
   "language": "python",
   "name": "python3"
  },
  "language_info": {
   "codemirror_mode": {
    "name": "ipython",
    "version": 3
   },
   "file_extension": ".py",
   "mimetype": "text/x-python",
   "name": "python",
   "nbconvert_exporter": "python",
   "pygments_lexer": "ipython3",
   "version": "3.7.3"
  }
 },
 "nbformat": 4,
 "nbformat_minor": 4
}
